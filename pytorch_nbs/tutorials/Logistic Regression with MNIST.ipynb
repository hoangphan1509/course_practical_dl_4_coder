{
 "cells": [
  {
   "cell_type": "code",
   "execution_count": 3,
   "metadata": {},
   "outputs": [],
   "source": [
    "import torch\n",
    "import torchvision\n",
    "import torch.nn as nn\n",
    "import numpy as np\n",
    "import torch.utils.data as data\n",
    "import torchvision.transforms as transforms\n",
    "import torchvision.datasets as dsets\n",
    "from torch.autograd import Variable\n",
    "\n",
    "from matplotlib import pyplot as plt\n",
    "%matplotlib inline"
   ]
  },
  {
   "cell_type": "code",
   "execution_count": 4,
   "metadata": {},
   "outputs": [],
   "source": [
    "# Hyper parameters\n",
    "input_size = 28 * 28\n",
    "num_classes = 10\n",
    "num_epoches = 5\n",
    "batch_size = 100\n",
    "learning_rate = 0.001"
   ]
  },
  {
   "cell_type": "code",
   "execution_count": 5,
   "metadata": {},
   "outputs": [],
   "source": [
    "# load and normalize MNIST dataset\n",
    "transform = transforms.Compose([\n",
    "    transforms.ToTensor(),\n",
    "    transforms.Normalize((0.1307,), (0.3081,))\n",
    "])\n",
    "\n",
    "train_dataset = dsets.MNIST(root='../../data/', \n",
    "                            train=True, \n",
    "                            download=True,\n",
    "                            transform=transform)\n",
    "test_dataset = dsets.MNIST(root='../../data/', \n",
    "                           train=False,\n",
    "                           transform=transform)\n",
    "\n",
    "train_loader = torch.utils.data.DataLoader(train_dataset, \n",
    "                                           batch_size=batch_size, \n",
    "                                           shuffle=True, \n",
    "                                           num_workers=2)\n",
    "\n",
    "test_loader = torch.utils.data.DataLoader(test_dataset, \n",
    "                                          batch_size=batch_size, \n",
    "                                          shuffle=False, \n",
    "                                          num_workers=2)"
   ]
  },
  {
   "cell_type": "code",
   "execution_count": 6,
   "metadata": {},
   "outputs": [],
   "source": [
    "def imshow(img, title=None, mean=0, std=1):\n",
    "    npimg = img.numpy().transpose((1, 2, 0))\n",
    "    npimg = std * npimg + mean\n",
    "    npimg = np.clip(npimg, 0, 1)\n",
    "    plt.imshow(npimg)\n",
    "                                  \n",
    "    if title is not None:\n",
    "        plt.title(title)\n",
    "    plt.pause(0.001)  # pause a bit so that plots are updated"
   ]
  },
  {
   "cell_type": "code",
   "execution_count": 7,
   "metadata": {},
   "outputs": [
    {
     "data": {
      "image/png": "[encoded data removed]",
      "text/plain": [
       "<matplotlib.figure.Figure at 0x7f6672fad5f8>"
      ]
     },
     "metadata": {},
     "output_type": "display_data"
    }
   ],
   "source": [
    "images, labels = next(iter(train_loader))\n",
    "\n",
    "# visualize the first batch\n",
    "out = torchvision.utils.make_grid(images[0:4])\n",
    "\n",
    "mean = np.array([0.1307])\n",
    "std = np.array([0.3081])\n",
    "\n",
    "imshow(out, title=[x for x in labels[0:4]], mean=mean, std=std)"
   ]
  },
  {
   "cell_type": "code",
   "execution_count": 8,
   "metadata": {},
   "outputs": [],
   "source": [
    "# define linear regression model\n",
    "class LogisticRegression(nn.Module):\n",
    "    def __init__(self, input_size, output_size):\n",
    "        super(LogisticRegression, self).__init__()\n",
    "        self.linear = nn.Linear(input_size, output_size)\n",
    "    \n",
    "    def forward(self, x):\n",
    "        return self.linear(x)"
   ]
  },
  {
   "cell_type": "code",
   "execution_count": 9,
   "metadata": {},
   "outputs": [],
   "source": [
    "model = LogisticRegression(input_size, num_classes)\n",
    "\n",
    "criterion = nn.CrossEntropyLoss()  \n",
    "optimizer = torch.optim.SGD(model.parameters(), lr=learning_rate)"
   ]
  },
  {
   "cell_type": "code",
   "execution_count": 10,
   "metadata": {
    "scrolled": true
   },
   "outputs": [
    {
     "name": "stdout",
     "output_type": "stream",
     "text": [
      "Epoch: [1/5], Step: [100/600], Loss: 1.5721\n",
      "Epoch: [1/5], Step: [200/600], Loss: 1.1734\n",
      "Epoch: [1/5], Step: [300/600], Loss: 0.9085\n",
      "Epoch: [1/5], Step: [400/600], Loss: 0.8274\n",
      "Epoch: [1/5], Step: [500/600], Loss: 0.8248\n",
      "Epoch: [1/5], Step: [600/600], Loss: 0.7622\n",
      "Epoch: [2/5], Step: [100/600], Loss: 0.7436\n",
      "Epoch: [2/5], Step: [200/600], Loss: 0.7067\n",
      "Epoch: [2/5], Step: [300/600], Loss: 0.4487\n",
      "Epoch: [2/5], Step: [400/600], Loss: 0.5511\n",
      "Epoch: [2/5], Step: [500/600], Loss: 0.5725\n",
      "Epoch: [2/5], Step: [600/600], Loss: 0.6066\n",
      "Epoch: [3/5], Step: [100/600], Loss: 0.5047\n",
      "Epoch: [3/5], Step: [200/600], Loss: 0.5773\n",
      "Epoch: [3/5], Step: [300/600], Loss: 0.5401\n",
      "Epoch: [3/5], Step: [400/600], Loss: 0.6050\n",
      "Epoch: [3/5], Step: [500/600], Loss: 0.4565\n",
      "Epoch: [3/5], Step: [600/600], Loss: 0.5225\n",
      "Epoch: [4/5], Step: [100/600], Loss: 0.4758\n",
      "Epoch: [4/5], Step: [200/600], Loss: 0.4445\n",
      "Epoch: [4/5], Step: [300/600], Loss: 0.4916\n",
      "Epoch: [4/5], Step: [400/600], Loss: 0.4446\n",
      "Epoch: [4/5], Step: [500/600], Loss: 0.5270\n",
      "Epoch: [4/5], Step: [600/600], Loss: 0.5026\n",
      "Epoch: [5/5], Step: [100/600], Loss: 0.4520\n",
      "Epoch: [5/5], Step: [200/600], Loss: 0.4584\n",
      "Epoch: [5/5], Step: [300/600], Loss: 0.3386\n",
      "Epoch: [5/5], Step: [400/600], Loss: 0.5217\n",
      "Epoch: [5/5], Step: [500/600], Loss: 0.4086\n",
      "Epoch: [5/5], Step: [600/600], Loss: 0.4093\n"
     ]
    }
   ],
   "source": [
    "# train model\n",
    "for epoch in range(num_epoches):\n",
    "    for i, (images, labels) in enumerate(train_loader):\n",
    "        images = Variable(images.view(-1, 28 * 28))\n",
    "        labels = Variable(labels)\n",
    "        \n",
    "        optimizer.zero_grad()\n",
    "        \n",
    "        outputs = model(images)\n",
    "        \n",
    "        # convert labels to one-hot\n",
    "        loss = criterion(outputs, labels)\n",
    "        loss.backward()\n",
    "        optimizer.step()\n",
    "        \n",
    "        if (i+1) % 100 == 0:\n",
    "            print ('Epoch: [%d/%d], Step: [%d/%d], Loss: %.4f' \n",
    "                   % (epoch+1, num_epoches, i+1, len(train_dataset)//batch_size, loss.data[0]))"
   ]
  },
  {
   "cell_type": "code",
   "execution_count": 19,
   "metadata": {},
   "outputs": [
    {
     "name": "stdout",
     "output_type": "stream",
     "text": [
      "Accuracy of the network on the 10000 test images: 88 %\n"
     ]
    }
   ],
   "source": [
    "# Test the Model\n",
    "correct = 0\n",
    "total = 0\n",
    "test_pred = []\n",
    "for images, labels in test_loader:\n",
    "    images = Variable(images.view(-1, 28*28))\n",
    "    outputs = model(images)\n",
    "    _, predicted = torch.max(outputs.data, 1)\n",
    "    test_pred.extend(predicted)\n",
    "    total += labels.size(0)\n",
    "    correct += (predicted == labels).sum()\n",
    "\n",
    "print('Accuracy of the network on the 10000 test images: %d %%' % (100 * correct / total))"
   ]
  },
  {
   "cell_type": "markdown",
   "metadata": {},
   "source": [
    "### Viewing model prediction examples\n",
    "\n",
    "As well as looking at the overall metrics, it's also a good idea to look at examples of each of:\n",
    "\n",
    "1. A few correct labels at random\n",
    "2. A few incorrect labels at random\n",
    "3. The most correct labels of each class (ie those with highest probability that are correct)\n",
    "4. The most incorrect labels of each class (ie those with highest probability that are incorrect)\n",
    "5. The most uncertain labels (ie those with probability closest to 0.5).\n",
    "\n"
   ]
  },
  {
   "cell_type": "code",
   "execution_count": 22,
   "metadata": {},
   "outputs": [
    {
     "data": {
      "text/plain": [
       "10000"
      ]
     },
     "execution_count": 22,
     "metadata": {},
     "output_type": "execute_result"
    }
   ],
   "source": [
    "test_dataset.test_data.size()\n",
    "test_dataset.test_labels.size()\n",
    "len(test_pred)"
   ]
  },
  {
   "cell_type": "code",
   "execution_count": 39,
   "metadata": {},
   "outputs": [],
   "source": [
    "test_full_loader = torch.utils.data.DataLoader(test_dataset, \n",
    "                                               batch_size=test_dataset.test_data.size(0),\n",
    "                                               shuffle=False,\n",
    "                                               num_workers=4)"
   ]
  },
  {
   "cell_type": "code",
   "execution_count": 32,
   "metadata": {},
   "outputs": [],
   "source": [
    "#1 A few correct labels at random\n",
    "from numpy.random import random, permutation \n",
    "\n",
    "n_view = 5\n",
    "\n",
    "correct = np.where(test_dataset.test_labels.numpy() == test_pred)[0]\n",
    "idx = torch.LongTensor(permutation(correct)[:n_view])"
   ]
  },
  {
   "cell_type": "code",
   "execution_count": 40,
   "metadata": {},
   "outputs": [],
   "source": [
    "test_images, test_labels = next(iter(test_full_loader))"
   ]
  },
  {
   "cell_type": "code",
   "execution_count": 66,
   "metadata": {
    "scrolled": true
   },
   "outputs": [
    {
     "data": {
      "image/png": "[encoded data removed]",
      "text/plain": [
       "<matplotlib.figure.Figure at 0x7f65f41ffdd8>"
      ]
     },
     "metadata": {},
     "output_type": "display_data"
    }
   ],
   "source": [
    "out = torchvision.utils.make_grid(test_images[idx])\n",
    "imshow(out, test_labels[idx].numpy(), mean, std)"
   ]
  },
  {
   "cell_type": "code",
   "execution_count": 63,
   "metadata": {},
   "outputs": [
    {
     "data": {
      "text/plain": [
       "2"
      ]
     },
     "execution_count": 63,
     "metadata": {},
     "output_type": "execute_result"
    }
   ],
   "source": [
    "torch.LongTensor(test_pred)[1]"
   ]
  },
  {
   "cell_type": "code",
   "execution_count": 65,
   "metadata": {},
   "outputs": [
    {
     "data": {
      "image/png": "[encoded data removed]",
      "text/plain": [
       "<matplotlib.figure.Figure at 0x7f65f41ff7b8>"
      ]
     },
     "metadata": {},
     "output_type": "display_data"
    }
   ],
   "source": [
    "#2 A few incorrect labels at random\n",
    "correct = np.where(test_dataset.test_labels.numpy() != test_pred)[0]\n",
    "idx = torch.LongTensor(permutation(correct)[:n_view])\n",
    "\n",
    "out = torchvision.utils.make_grid(test_images[idx])\n",
    "imshow(out, torch.LongTensor(test_pred)[idx].numpy(), mean, std)"
   ]
  },
  {
   "cell_type": "code",
   "execution_count": null,
   "metadata": {},
   "outputs": [],
   "source": []
  }
 ],
 "metadata": {
  "kernelspec": {
   "display_name": "Python 3",
   "language": "python",
   "name": "python3"
  },
  "language_info": {
   "codemirror_mode": {
    "name": "ipython",
    "version": 3
   },
   "file_extension": ".py",
   "mimetype": "text/x-python",
   "name": "python",
   "nbconvert_exporter": "python",
   "pygments_lexer": "ipython3",
   "version": "3.6.3"
  }
 },
 "nbformat": 4,
 "nbformat_minor": 2
}
